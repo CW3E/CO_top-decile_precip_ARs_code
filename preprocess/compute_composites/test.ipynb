{
 "cells": [
  {
   "cell_type": "code",
   "execution_count": null,
   "id": "6783ec70-465c-49ce-bdc8-38803f1e896d",
   "metadata": {},
   "outputs": [],
   "source": [
    "import sys\n",
    "import xarray as xr\n",
    "import numpy as np\n",
    "import pandas as pd\n",
    "%matplotlib inline\n",
    "# import wrf\n",
    "\n",
    "\n",
    "# import personal modules\n",
    "# Path to modules\n",
    "sys.path.append('../modules')\n",
    "# Import my modules"
   ]
  },
  {
   "cell_type": "code",
   "execution_count": null,
   "id": "ef8a5cbf-9722-4402-85fb-bb294d9bee15",
   "metadata": {},
   "outputs": [],
   "source": [
    "## load ar dates within baja region\n",
    "fname = '../out/bbox_dates_baja.csv'\n",
    "df = pd.read_csv(fname)\n",
    "df = df.set_index(pd.to_datetime(df['datetime']))\n",
    "ar_dates = df['datetime'].values\n",
    "## create year month columns in dataframe \n",
    "df['yearmonth'] = df.index.strftime(\"%Y%m\")\n",
    "new = df.drop_duplicates('yearmonth')\n",
    "new\n",
    "\n",
    "## I think I need to do year month day\n",
    "\n",
    "## also break down into warm season, cool season, and ssn"
   ]
  },
  {
   "cell_type": "code",
   "execution_count": null,
   "id": "73b51f66-0411-4f4a-bd8c-96a9cb1e4370",
   "metadata": {},
   "outputs": [],
   "source": [
    "## load ERA5 data\n",
    "\n",
    "### IVT\n",
    "\n",
    "### 700 hPa geopotential heights?\n",
    "\n",
    "### "
   ]
  }
 ],
 "metadata": {
  "kernelspec": {
   "display_name": "Python (SEAK-impacts)",
   "language": "python",
   "name": "seak-impacts"
  },
  "language_info": {
   "codemirror_mode": {
    "name": "ipython",
    "version": 3
   },
   "file_extension": ".py",
   "mimetype": "text/x-python",
   "name": "python",
   "nbconvert_exporter": "python",
   "pygments_lexer": "ipython3",
   "version": "3.12.0"
  }
 },
 "nbformat": 4,
 "nbformat_minor": 5
}
