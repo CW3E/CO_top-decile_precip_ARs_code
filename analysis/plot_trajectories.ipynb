{
 "cells": [
  {
   "cell_type": "code",
   "execution_count": null,
   "id": "e873cd1e-5482-4ce8-8b62-dc550f06de65",
   "metadata": {},
   "outputs": [],
   "source": [
    "import sys\n",
    "import xarray as xr\n",
    "import numpy as np\n",
    "import pandas as pd\n",
    "import math\n",
    "import glob\n",
    "import yaml\n",
    "import geopandas\n",
    "import cartopy\n",
    "import matplotlib.pyplot as plt\n",
    "from matplotlib.gridspec import GridSpec\n",
    "from matplotlib.colorbar import Colorbar # different way to handle colorbar\n",
    "import matplotlib.ticker as mticker\n",
    "import cmocean.cm as cmo\n",
    "\n",
    "# cartopy\n",
    "import cartopy.crs as ccrs\n",
    "from cartopy.mpl.geoaxes import GeoAxes\n",
    "import cartopy.feature as cfeature\n",
    "import dask\n",
    "\n",
    "# import personal modules\n",
    "# Path to modules\n",
    "sys.path.append('../modules')\n",
    "# Import my modules\n",
    "from utils import roundPartial\n",
    "from plotter import draw_basemap, plot_terrain\n",
    "from colorline import colorline\n",
    "\n",
    "dask.config.set(**{'array.slicing.split_large_chunks': True})"
   ]
  },
  {
   "cell_type": "code",
   "execution_count": null,
   "id": "9e0bfef7-60f6-41a7-8ff6-017a29fabaf0",
   "metadata": {},
   "outputs": [],
   "source": [
    "server='expanse'\n",
    "if server == 'comet':\n",
    "    path_to_data = '/data/projects/Comet/cwp140/'\n",
    "elif server == 'expanse':\n",
    "    path_to_data = '/expanse/lustre/scratch/dnash/temp_project/'   \n",
    "path_to_out  = '../out/'       # output files (numerical results, intermediate datafiles) -- read & write\n",
    "path_to_figs = '../figs/'      # figures"
   ]
  },
  {
   "cell_type": "code",
   "execution_count": null,
   "id": "ec22a6f5-ebfd-4732-80ae-6f525325835f",
   "metadata": {},
   "outputs": [],
   "source": [
    "config_file = '../preprocess/calculate_trajectories/config_1.yaml'\n",
    "job_info = 'job_1' # this is the job name\n",
    "\n",
    "config = yaml.load(open(config_file), Loader=yaml.SafeLoader) # read the file\n",
    "ddict = config[job_info] # pull the job info from the dict\n",
    "HUC8_ID = ddict['HUC8_ID']\n",
    "\n",
    "fname = path_to_data + 'preprocessed/PRISM/PRISM_HUC8_CO.nc'\n",
    "ds = xr.open_dataset(fname)\n",
    "# get list of event dates from first HUC8\n",
    "ds = ds.sel(HUC8=HUC8_ID)\n",
    "ds = ds.where(ds.extreme == 1, drop=True)\n",
    "event_dates = ds.date.values\n",
    "nevents = len(event_dates)"
   ]
  },
  {
   "cell_type": "code",
   "execution_count": null,
   "id": "2d4e399c-030c-442c-b055-e7688941ed04",
   "metadata": {},
   "outputs": [],
   "source": [
    "## append filenames to a list\n",
    "print('Gathering filenames ...')\n",
    "fname_lst = []\n",
    "for i, dt in enumerate(event_dates):\n",
    "    ts = pd.to_datetime(str(dt)) \n",
    "    d = ts.strftime(\"%Y%m%d\")\n",
    "    fname = path_to_data + 'preprocessed/ERA5_trajectories/PRISM_HUC8_{0}_{1}.nc'.format(HUC8_ID, d)\n",
    "    fname_lst.append(fname)"
   ]
  },
  {
   "cell_type": "code",
   "execution_count": null,
   "id": "31a9c9fe-9ef0-4c83-886a-491d381d5607",
   "metadata": {},
   "outputs": [],
   "source": [
    "## open all files for current HUC8\n",
    "# final_ds = xr.open_mfdataset(fname_lst, combine='nested', concat_dim=pd.Index(event_dates[9:], name=\"start_date\"), engine='netcdf4')\n",
    "# final_ds\n",
    "ds_lst = []\n",
    "for i, fname in enumerate(fname_lst):\n",
    "    ds = xr.open_dataset(fname)\n",
    "    ds_lst.append(ds)\n",
    "\n",
    "## save all trajectories for current HUC8 as single netcdf\n",
    "final_ds = xr.concat(ds_lst, pd.Index(event_dates, name=\"start_date\"))\n",
    "final_ds"
   ]
  },
  {
   "cell_type": "code",
   "execution_count": null,
   "id": "b68fb69a-5bbe-4e29-a607-068d3a7ba236",
   "metadata": {},
   "outputs": [],
   "source": [
    "# out_fname = '/expanse/nfs/cw3e/cwp140/preprocessed/ERA5_trajectories/PRISM_HUC8_{0}.nc'.format(HUC8_ID)\n",
    "# final_ds.to_netcdf(path=out_fname, mode = 'w', format='NETCDF4')"
   ]
  },
  {
   "cell_type": "code",
   "execution_count": null,
   "id": "e5f777df-5a17-4627-ba72-ca09658c57f8",
   "metadata": {},
   "outputs": [],
   "source": [
    "# select DJF\n",
    "DJF = final_ds.sel(start_date=final_ds.start_date.dt.season==\"DJF\")\n",
    "MAM = final_ds.sel(start_date=final_ds.start_date.dt.season==\"MAM\")\n",
    "JJA = final_ds.sel(start_date=final_ds.start_date.dt.season==\"JJA\")\n",
    "SON = final_ds.sel(start_date=final_ds.start_date.dt.season==\"SON\")\n",
    "\n",
    "ds_lst = [DJF, MAM, JJA, SON]"
   ]
  },
  {
   "cell_type": "code",
   "execution_count": null,
   "id": "f7accc15-b5b0-4b0a-8ef5-35e4d5722561",
   "metadata": {},
   "outputs": [],
   "source": [
    "min_q = final_ds.q.min().values\n",
    "max_q = final_ds.q.max().values\n",
    "print(np.round(min_q), np.round(max_q))"
   ]
  },
  {
   "cell_type": "code",
   "execution_count": null,
   "id": "1a277b99-9a3c-4473-b364-adc31f832910",
   "metadata": {},
   "outputs": [],
   "source": [
    "ext = [-130., -100., 10., 45.] \n",
    "fmt = 'png'\n",
    "\n",
    "# Set up projection\n",
    "datacrs = ccrs.PlateCarree()  ## the projection the data is in\n",
    "mapcrs = ccrs.PlateCarree() ## the projection you want your map displayed in\n",
    "\n",
    "# Set tick/grid locations\n",
    "tx = 10\n",
    "ty = 5\n",
    "dx = np.arange(ext[0],ext[1]+tx,tx)\n",
    "dy = np.arange(ext[2],ext[3]+ty,ty)\n",
    "\n",
    "nrows = 2\n",
    "ncols = 3\n",
    "\n",
    "## Use gridspec to set up a plot with a series of subplots that is\n",
    "## n-rows by n-columns\n",
    "gs = GridSpec(nrows, ncols, height_ratios=[1, 1], width_ratios = [1, 1, 0.05], wspace=0.1, hspace=0.1)\n",
    "## use gs[rows index, columns index] to access grids\n",
    "\n",
    "\n",
    "fig = plt.figure(figsize=(6.5 ,7.0))\n",
    "fig.dpi = 600\n",
    "fname = path_to_figs + 'test_trajectory'\n",
    "\n",
    "# enumerate through seasons\n",
    "ssn = ['DJF', 'MAM', 'JJA', 'SON']\n",
    "row_idx = [0, 0, 1, 1]\n",
    "col_idx = [0, 1, 0, 1]\n",
    "for k, ds in enumerate(ds_lst):\n",
    "    ax = fig.add_subplot(gs[row_idx[k], col_idx[k]], projection=mapcrs)\n",
    "    ax.set_title(ssn[k], loc='left', fontsize=10)\n",
    "    ax = draw_basemap(ax, extent=ext, xticks=dx, yticks=dy,left_lats=True, right_lats=False)\n",
    "    ax.set_extent(ext, datacrs)\n",
    "    \n",
    "    ax.add_feature(cfeature.STATES, edgecolor='0.4', linewidth=0.8)\n",
    "    \n",
    "    # need this to fix annotate transform\n",
    "    transform = datacrs._as_mpl_transform(ax)\n",
    "    nevents = len(ds.start_date)\n",
    "    ## Add different points\n",
    "    for i in range(nevents):\n",
    "        data = ds.isel(start_date=i)\n",
    "        y_lst = data.latitude.values\n",
    "        x_lst = data.longitude.values\n",
    "        z_lst = data.q.values\n",
    "        ax.plot(x_lst, y_lst, c='gray', transform=datacrs, alpha=0.2)\n",
    "        cf = ax.scatter(x_lst, y_lst, c=z_lst, vmin=0, vmax=12, cmap=cmo.deep, marker='.', transform=datacrs, alpha=0.7, s=6)\n",
    "\n",
    "# Add color bar\n",
    "cbax = plt.subplot(gs[:,2]) # colorbar axis\n",
    "cb = Colorbar(ax = cbax, mappable = cf, orientation = 'vertical', ticklocation = 'right')\n",
    "cb.set_label('Specific Humidity (g kg$^{-1}$)', fontsize=11)\n",
    "cb.ax.tick_params(labelsize=12)\n",
    "\n",
    "fig.savefig('%s.%s' %(fname, fmt), bbox_inches='tight', dpi=fig.dpi, transparent=True)\n",
    "plt.show()\n",
    "fig.clf()"
   ]
  },
  {
   "cell_type": "code",
   "execution_count": null,
   "id": "c08c427b-3024-4011-b3ac-9d8bde931454",
   "metadata": {},
   "outputs": [],
   "source": []
  }
 ],
 "metadata": {
  "kernelspec": {
   "display_name": "Python (SEAK-clim)",
   "language": "python",
   "name": "seak-clim"
  },
  "language_info": {
   "codemirror_mode": {
    "name": "ipython",
    "version": 3
   },
   "file_extension": ".py",
   "mimetype": "text/x-python",
   "name": "python",
   "nbconvert_exporter": "python",
   "pygments_lexer": "ipython3",
   "version": "3.10.6"
  }
 },
 "nbformat": 4,
 "nbformat_minor": 5
}
