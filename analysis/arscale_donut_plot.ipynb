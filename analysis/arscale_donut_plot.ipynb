{
 "cells": [
  {
   "cell_type": "code",
   "execution_count": null,
   "id": "7ae393c8-5eed-4e32-a0af-4d1311f49afb",
   "metadata": {},
   "outputs": [],
   "source": [
    "## a donut plot showing the fraction of events for each AR scale value\n",
    "\n",
    "## for all the watersheds, how many events total?\n",
    "\n",
    "## for all the watersheds, how many AR scale 1, 2, 3, 4, 5?\n",
    "\n",
    "## donut will be grey for no AR, then the colors for the AR scale"
   ]
  }
 ],
 "metadata": {
  "kernelspec": {
   "display_name": "Python (eaton-scripps)",
   "language": "python",
   "name": "eaton-scripps"
  },
  "language_info": {
   "codemirror_mode": {
    "name": "ipython",
    "version": 3
   },
   "file_extension": ".py",
   "mimetype": "text/x-python",
   "name": "python",
   "nbconvert_exporter": "python",
   "pygments_lexer": "ipython3",
   "version": "3.10.13"
  }
 },
 "nbformat": 4,
 "nbformat_minor": 5
}
